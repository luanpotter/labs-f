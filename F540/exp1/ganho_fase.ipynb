{
 "cells": [
  {
   "cell_type": "markdown",
   "metadata": {
    "deletable": true,
    "editable": true
   },
   "source": [
    "# Aplicação 1: Varredura em frequência de um filtro passa-baixa \n",
    "\n",
    "Conecte um capacitor de $0.22\\, \\mu C$ e um resistor de $150\\, \\Omega$ na configuração de filtro passa-baixa. Ligue o canal 1 do gerador de função no canal 1 do osciloscópio e conecte o canal 2 do osciloscópio entre o resistor e o gerador de funções. Também conecte a saída SYNC do gerador de funções na entrada EXT do osciloscópio"
   ]
  },
  {
   "cell_type": "code",
   "execution_count": 2,
   "metadata": {
    "collapsed": false,
    "deletable": true,
    "editable": true
   },
   "outputs": [],
   "source": [
    "## parametros de varredura\n",
    "PATH = '/home/luan/projects/labs-f/labs-f/F540/exp1/files'     # pasta onde salvar todos os arquivos\n",
    "## Não coloque .dat aqui, pois as extensões são adicionadas automaticamente\n",
    "nome_arquivo = 'exp1'    # nome prefixo dos arquivos  \n",
    "output_curvas = True      # condicional para imprimir as curvas e os dados da tela do osciloscópio     \n",
    "Vpp = 2.0      # Tensão pico-a-pico na saida do gerador\n",
    "Nfreq = 20     # frequências número de pontos\n",
    "freq0 = 100    # frequências inicial\n",
    "freq1 = 300e3  # frequências final"
   ]
  },
  {
   "cell_type": "code",
   "execution_count": 10,
   "metadata": {
    "collapsed": false,
    "deletable": true,
    "editable": true
   },
   "outputs": [],
   "source": [
    "### importa as bibliotecas necessárias\n",
    "import pylef   # importar pylef \n",
    "import visa    # importar a bilioteca pyVISA para lidar com virtualização de instrumentos\n",
    "import matplotlib.pyplot as plt  # importar a bilioteca pyplot para fazer gráficos\n",
    "import numpy as np   # importar a biblioteca Numpy para lidar com matrizes\n",
    "import time          # importar a bilioteca para funções temporais\n",
    "import pandas as pd   # importa bilioteca pandas para  lidar com processamento de dados\n",
    "import os            # biblioteca para lidar com diretórios\n",
    "# próxima linha faz plotar o gráfico dentro do notebook\n",
    "%matplotlib inline   "
   ]
  },
  {
   "cell_type": "code",
   "execution_count": 12,
   "metadata": {
    "collapsed": false,
    "deletable": true,
    "editable": true
   },
   "outputs": [
    {
     "ename": "OSError",
     "evalue": "Could not open VISA library:\n",
     "output_type": "error",
     "traceback": [
      "\u001b[0;31m---------------------------------------------------------------------------\u001b[0m",
      "\u001b[0;31mOSError\u001b[0m                                   Traceback (most recent call last)",
      "\u001b[0;32m<ipython-input-12-59f269b3a78b>\u001b[0m in \u001b[0;36m<module>\u001b[0;34m()\u001b[0m\n\u001b[1;32m      1\u001b[0m \u001b[0;31m# imprime os recursos para ter certeza que os instrumentos estão conectados\u001b[0m\u001b[0;34m\u001b[0m\u001b[0;34m\u001b[0m\u001b[0m\n\u001b[0;32m----> 2\u001b[0;31m \u001b[0mvisa\u001b[0m\u001b[0;34m.\u001b[0m\u001b[0mResourceManager\u001b[0m\u001b[0;34m(\u001b[0m\u001b[0;34m)\u001b[0m\u001b[0;34m.\u001b[0m\u001b[0mlist_resources\u001b[0m\u001b[0;34m(\u001b[0m\u001b[0;34m)\u001b[0m\u001b[0;34m\u001b[0m\u001b[0m\n\u001b[0m",
      "\u001b[0;32m/usr/lib/python3.6/site-packages/pyvisa/highlevel.py\u001b[0m in \u001b[0;36m__new__\u001b[0;34m(cls, visa_library)\u001b[0m\n\u001b[1;32m   1486\u001b[0m     \u001b[0;32mdef\u001b[0m \u001b[0m__new__\u001b[0m\u001b[0;34m(\u001b[0m\u001b[0mcls\u001b[0m\u001b[0;34m,\u001b[0m \u001b[0mvisa_library\u001b[0m\u001b[0;34m=\u001b[0m\u001b[0;34m''\u001b[0m\u001b[0;34m)\u001b[0m\u001b[0;34m:\u001b[0m\u001b[0;34m\u001b[0m\u001b[0m\n\u001b[1;32m   1487\u001b[0m         \u001b[0;32mif\u001b[0m \u001b[0;32mnot\u001b[0m \u001b[0misinstance\u001b[0m\u001b[0;34m(\u001b[0m\u001b[0mvisa_library\u001b[0m\u001b[0;34m,\u001b[0m \u001b[0mVisaLibraryBase\u001b[0m\u001b[0;34m)\u001b[0m\u001b[0;34m:\u001b[0m\u001b[0;34m\u001b[0m\u001b[0m\n\u001b[0;32m-> 1488\u001b[0;31m             \u001b[0mvisa_library\u001b[0m \u001b[0;34m=\u001b[0m \u001b[0mopen_visa_library\u001b[0m\u001b[0;34m(\u001b[0m\u001b[0mvisa_library\u001b[0m\u001b[0;34m)\u001b[0m\u001b[0;34m\u001b[0m\u001b[0m\n\u001b[0m\u001b[1;32m   1489\u001b[0m \u001b[0;34m\u001b[0m\u001b[0m\n\u001b[1;32m   1490\u001b[0m         \u001b[0;32mif\u001b[0m \u001b[0mvisa_library\u001b[0m\u001b[0;34m.\u001b[0m\u001b[0mresource_manager\u001b[0m \u001b[0;32mis\u001b[0m \u001b[0;32mnot\u001b[0m \u001b[0;32mNone\u001b[0m\u001b[0;34m:\u001b[0m\u001b[0;34m\u001b[0m\u001b[0m\n",
      "\u001b[0;32m/usr/lib/python3.6/site-packages/pyvisa/highlevel.py\u001b[0m in \u001b[0;36mopen_visa_library\u001b[0;34m(specification)\u001b[0m\n\u001b[1;32m   1458\u001b[0m \u001b[0;34m\u001b[0m\u001b[0m\n\u001b[1;32m   1459\u001b[0m     \u001b[0;32mtry\u001b[0m\u001b[0;34m:\u001b[0m\u001b[0;34m\u001b[0m\u001b[0m\n\u001b[0;32m-> 1460\u001b[0;31m         \u001b[0;32mreturn\u001b[0m \u001b[0mcls\u001b[0m\u001b[0;34m(\u001b[0m\u001b[0margument\u001b[0m\u001b[0;34m)\u001b[0m\u001b[0;34m\u001b[0m\u001b[0m\n\u001b[0m\u001b[1;32m   1461\u001b[0m     \u001b[0;32mexcept\u001b[0m \u001b[0mException\u001b[0m \u001b[0;32mas\u001b[0m \u001b[0me\u001b[0m\u001b[0;34m:\u001b[0m\u001b[0;34m\u001b[0m\u001b[0m\n\u001b[1;32m   1462\u001b[0m         \u001b[0mlogger\u001b[0m\u001b[0;34m.\u001b[0m\u001b[0mdebug\u001b[0m\u001b[0;34m(\u001b[0m\u001b[0;34m'Could not open VISA wrapper %s: %s\\n%s'\u001b[0m\u001b[0;34m,\u001b[0m \u001b[0mcls\u001b[0m\u001b[0;34m,\u001b[0m \u001b[0mstr\u001b[0m\u001b[0;34m(\u001b[0m\u001b[0margument\u001b[0m\u001b[0;34m)\u001b[0m\u001b[0;34m,\u001b[0m \u001b[0me\u001b[0m\u001b[0;34m)\u001b[0m\u001b[0;34m\u001b[0m\u001b[0m\n",
      "\u001b[0;32m/usr/lib/python3.6/site-packages/pyvisa/highlevel.py\u001b[0m in \u001b[0;36m__new__\u001b[0;34m(cls, library_path)\u001b[0m\n\u001b[1;32m     94\u001b[0m                     \u001b[0merrs\u001b[0m\u001b[0;34m.\u001b[0m\u001b[0mappend\u001b[0m\u001b[0;34m(\u001b[0m\u001b[0mstr\u001b[0m\u001b[0;34m(\u001b[0m\u001b[0me\u001b[0m\u001b[0;34m)\u001b[0m\u001b[0;34m)\u001b[0m\u001b[0;34m\u001b[0m\u001b[0m\n\u001b[1;32m     95\u001b[0m             \u001b[0;32melse\u001b[0m\u001b[0;34m:\u001b[0m\u001b[0;34m\u001b[0m\u001b[0m\n\u001b[0;32m---> 96\u001b[0;31m                 \u001b[0;32mraise\u001b[0m \u001b[0mOSError\u001b[0m\u001b[0;34m(\u001b[0m\u001b[0;34m'Could not open VISA library:\\n'\u001b[0m \u001b[0;34m+\u001b[0m \u001b[0;34m'\\n'\u001b[0m\u001b[0;34m.\u001b[0m\u001b[0mjoin\u001b[0m\u001b[0;34m(\u001b[0m\u001b[0merrs\u001b[0m\u001b[0;34m)\u001b[0m\u001b[0;34m)\u001b[0m\u001b[0;34m\u001b[0m\u001b[0m\n\u001b[0m\u001b[1;32m     97\u001b[0m \u001b[0;34m\u001b[0m\u001b[0m\n\u001b[1;32m     98\u001b[0m         \u001b[0;32mif\u001b[0m \u001b[0;34m(\u001b[0m\u001b[0mcls\u001b[0m\u001b[0;34m,\u001b[0m \u001b[0mlibrary_path\u001b[0m\u001b[0;34m)\u001b[0m \u001b[0;32min\u001b[0m \u001b[0mcls\u001b[0m\u001b[0;34m.\u001b[0m\u001b[0m_registry\u001b[0m\u001b[0;34m:\u001b[0m\u001b[0;34m\u001b[0m\u001b[0m\n",
      "\u001b[0;31mOSError\u001b[0m: Could not open VISA library:\n"
     ]
    }
   ],
   "source": [
    "# imprime os recursos para ter certeza que os instrumentos estão conectados\n",
    "visa.ResourceManager().list_resources()"
   ]
  },
  {
   "cell_type": "code",
   "execution_count": 4,
   "metadata": {
    "collapsed": false,
    "deletable": true,
    "editable": true
   },
   "outputs": [
    {
     "name": "stdout",
     "output_type": "stream",
     "text": [
      "Gerador de Funções conectado! Id = *IDN BK Precision,SDG1010,389K15133\n",
      "Osciloscópio conectado! Id = TEKTRONIX,TBS 1062,C010162,CF:91.1CT FV:v26.01\n"
     ]
    }
   ],
   "source": [
    "func_gen = pylef.BK4052()          # definição do gerador de funções\n",
    "scope = pylef.TektronixTBS1062()   # definição do osciloscópio"
   ]
  },
  {
   "cell_type": "code",
   "execution_count": 5,
   "metadata": {
    "collapsed": false,
    "deletable": true,
    "editable": true
   },
   "outputs": [],
   "source": [
    "## Cria o diretório\n",
    "try: \n",
    "    os.makedirs(PATH)     # make new directory unless it already exists\n",
    "except OSError:\n",
    "    if not os.path.isdir(PATH):\n",
    "        raise"
   ]
  },
  {
   "cell_type": "code",
   "execution_count": 6,
   "metadata": {
    "collapsed": false,
    "deletable": true,
    "editable": true
   },
   "outputs": [],
   "source": [
    "##### Pré-aquisição\n",
    "# mude a onda para uma senóide! O que acontece se usarmos a onda triângular?\n",
    "func_gen.ch1.set_function('sine')\n",
    "## ajuste o trigger externo\n",
    "func_gen.ch1.sync_on()   # ligar o sync reference ao canal 1\n",
    "scope.trigger.set_source('ext')  # ajusta o trigger para externo no osciloscópio\n",
    "## ajusta média nos canais\n",
    "scope.set_average_number(4)  # ajusta o número de médias\n",
    "scope.set_average()    # turn average ON\n",
    "#scope.set_sample()       # turn average OFF\n",
    "## parâmetros inicias do gerador\n",
    "func_gen.ch1.set_frequency(freq0) \n",
    "func_gen.ch1.set_Vpp(Vpp)\n",
    "func_gen.ch1.set_offset(0.0)\n",
    "func_gen.ch1.set_phase(0.0)\n",
    "## tenha certeza que o gerador está ligado e que o canal 1 está na escala certa\n",
    "func_gen.ch1.turn_on()   # liga o canal 1\n",
    "scope.set_horizontal_scale((1/freq0)/4.)  # escala horizontal = 1/4 período (2.5 oscilações em tela)\n",
    "scope.ch1.set_smart_scale()  # rescala o canal 1\n",
    "scope.ch2.set_smart_scale()  # rescala o canal 2"
   ]
  },
  {
   "cell_type": "code",
   "execution_count": 7,
   "metadata": {
    "collapsed": false,
    "deletable": true,
    "editable": true
   },
   "outputs": [
    {
     "name": "stdout",
     "output_type": "stream",
     "text": [
      "... file => exp 11_curvas_19_19_51 saved!!\n",
      "terminada a frequência 0.100 kHz\n",
      "Medida 1\n",
      "\n",
      "... file => exp 12_curvas_19_20_02 saved!!\n",
      "terminada a frequência 0.740 kHz\n",
      "Medida 2\n",
      "\n",
      "... file => exp 13_curvas_19_20_14 saved!!\n",
      "terminada a frequência 5.477 kHz\n",
      "Medida 3\n",
      "\n",
      "... file => exp 14_curvas_19_20_25 saved!!\n",
      "terminada a frequência 40.536 kHz\n",
      "Medida 4\n",
      "\n",
      "... file => exp 15_curvas_19_20_36 saved!!\n",
      "terminada a frequência 300.000 kHz\n",
      "Medida 5\n",
      "\n"
     ]
    },
    {
     "data": {
      "text/plain": [
       "<matplotlib.figure.Figure at 0x8f40b70>"
      ]
     },
     "metadata": {},
     "output_type": "display_data"
    },
    {
     "data": {
      "text/plain": [
       "<matplotlib.figure.Figure at 0x9dd5d30>"
      ]
     },
     "metadata": {},
     "output_type": "display_data"
    },
    {
     "data": {
      "text/plain": [
       "<matplotlib.figure.Figure at 0x96ac9b0>"
      ]
     },
     "metadata": {},
     "output_type": "display_data"
    },
    {
     "data": {
      "text/plain": [
       "<matplotlib.figure.Figure at 0x9e2abe0>"
      ]
     },
     "metadata": {},
     "output_type": "display_data"
    },
    {
     "data": {
      "text/plain": [
       "<matplotlib.figure.Figure at 0x9ea82e8>"
      ]
     },
     "metadata": {},
     "output_type": "display_data"
    }
   ],
   "source": [
    "#### Aquisição de dados!! ####\n",
    "freq = np.logspace(np.log10(freq0), np.log10(freq1), Nfreq, endpoint = True)  # varredura logaritmica\n",
    "Vpp1, Vpp2 = [], []    # listas para guardar as variáveis\n",
    "phase1, phase2 = [], []    # listas para guardar as variáveis\n",
    "### aquisição de dados no gerador com varredura de frequência\n",
    "scope.write('MEASUREment:MEAS1:TYPE NONE')\n",
    "scope.write('MEASUREment:MEAS2:TYPE NONE')\n",
    "scope.write('MEASUREment:MEAS3:TYPE NONE')\n",
    "scope.write('MEASUREment:MEAS4:TYPE NONE')\n",
    "scope.write('MEASUREment:MEAS5:TYPE NONE')\n",
    "for m, freqP in enumerate(list(freq)):  # loop de aquisição\n",
    "    ### ajuste dos instrumentos\n",
    "    func_gen.ch1.set_frequency(freqP)   # muda a frequência\n",
    "    periodP = 1./freqP   # período da onda\n",
    "    scope.set_horizontal_scale(periodP/4.)  # escala horizontal = 1/4 período (2.5 oscilações em tela)\n",
    "    time.sleep(0.05)   # espere 50 microssegundos\n",
    "    scope.ch2.set_smart_scale()    #  rescala o canal 2\n",
    "    ### aquisição de dados\n",
    "    Vpp1.append(scope.ch1.measure.Vpp()) # acumula a medida do Vpp no canal 1\n",
    "    phase1.append(scope.ch1.measure.phase()) # acumula a medida da fase no canal 1    \n",
    "    time.sleep(0.05)  # wait between the data acquisition\n",
    "    Vpp2.append(scope.ch2.measure.Vpp())  # acumula a medida do Vpp no canal 2\n",
    "    phase2.append(scope.ch2.measure.phase()) # acumula a medida da fase no canal 2\n",
    "    if output_curvas:\n",
    "        num = np.floor(-np.log10(periodP)/3.) + 1 # referência para a escala do gráfico\n",
    "        ### leitura dos traços temporais\n",
    "        (t1, V1) = scope.ch1.read_channel()  # mede o canal 1\n",
    "        (t2, V2) = scope.ch2.read_channel()  # mede o canal 2\n",
    "        ### produção das figuras\n",
    "        fig = plt.figure()  # definição da figura\n",
    "        ax = fig.add_subplot(111)  # definição do eixo\n",
    "        ax.plot(t1*10**(3*num), V1, label = 'Vin')       # plota canal 1\n",
    "        ax.plot(t2*10**(3*num), V2, label = 'Vout')      # plota canal 2\n",
    "        plt.axis([None, None, -1.1*Vpp/2, 1.1*Vpp/2])    # ajusta os máximos e mínimos dos gráficos\n",
    "        ax.set_ylabel('Tensões (V)')\n",
    "        ax.legend()   # imprime as legendas no gráfico\n",
    "        if num == 0.0: ax.set_xlabel('Tempo (s)')    \n",
    "        if num == 1.0: ax.set_xlabel('Tempo (ms)')\n",
    "        if num == 2.0: ax.set_xlabel('Tempo (us)')\n",
    "        ### salva em arquivo os dados da aquisição\n",
    "        file_sweep_name = nome_arquivo + str(m + 1) + '_curvas'   # nome dos arquivos de sweep\n",
    "        time_suf = time.strftime('_%H_%M_%S', time.localtime(time.time())) \n",
    "        fig.savefig(PATH + file_sweep_name + time_suf + '.png', bbox_inches = 'tight')   #\n",
    "        scope.save_channels(file_sweep_name, PATH = PATH)\n",
    "#        plt.show()         # impressão na tela! \n",
    "        fig.clear()\n",
    "    print('terminada a frequência %4.3f kHz' % (1e-3*freqP))\n",
    "    print('Medida ' + str(m + 1) + '\\n')\n",
    "#    print('tempo de medida = ' + time.strftime('%H h %M min %S seg', time.localtime(time.time())))   \n",
    "Vpp1 = np.array(Vpp1)  # convete a lista em array\n",
    "Vpp2 = np.array(Vpp2)  # convete a lista em array\n",
    "phase1 = np.array(phase1)  # convete a lista em array\n",
    "phase2 = np.array(phase2)  # convete a lista em array"
   ]
  },
  {
   "cell_type": "code",
   "execution_count": null,
   "metadata": {
    "collapsed": true,
    "deletable": true,
    "editable": true
   },
   "outputs": [],
   "source": []
  },
  {
   "cell_type": "code",
   "execution_count": 8,
   "metadata": {
    "collapsed": false,
    "deletable": true,
    "editable": true
   },
   "outputs": [
    {
     "data": {
      "image/png": "[encoded data removed]",
      "text/plain": [
       "<matplotlib.figure.Figure at 0xb5b7a90>"
      ]
     },
     "metadata": {},
     "output_type": "display_data"
    }
   ],
   "source": [
    "## Análise de dados (não mude a variável PATH)\n",
    "T = Vpp2/Vpp1   # cálculo da transmissão \n",
    "T_dB = 20*np.log10(T)  # transmissão em dB\n",
    "dados = pd.DataFrame()   # inicializa um dataframe do pandas\n",
    "dados['Vpp1 (V)'], dados['Vpp2 (V)'] = Vpp1, Vpp2\n",
    "dados['fase1 (rad)'], dados['fase2 (rad)'] = Vpp1, Vpp2\n",
    "dados['frequencia (Hz)'], dados['T'] , dados['T_dB'] = freq, T, T_dB \n",
    "# plota o diagrama de bode para a transmissão e exporta em png\n",
    "fig = plt.figure()   # define uma figura\n",
    "ax = fig.add_subplot(111)  # define um eixo\n",
    "ax.plot(freq, T_dB, 'ko')   # plota a transmissão  \n",
    "ax.set_xscale('log')   # seta a escala de x para logaritmica\n",
    "# Por que não usamos escala log no eixo y também?\n",
    "ax.set_xlabel('frequência (Hz)')   # seta escala do eixo x\n",
    "ax.set_ylabel('Transmissão (dB)')   # seta escala do eixo y\n",
    "time_suf = time.strftime('_%H_%M_%S', time.localtime(time.time())) \n",
    "fig.savefig(PATH + nome_arquivo + '_bode' + time_suf + '.png', bbox_inches = 'tight')  # salva figura na pasta de trabalho\n",
    "dados.to_csv(PATH + nome_arquivo + '_dados' + time_suf + '.dat', sep = '\\t')   # \\t significa que o separador é uma tabulação\n",
    "plt.show()"
   ]
  },
  {
   "cell_type": "code",
   "execution_count": 9,
   "metadata": {
    "collapsed": true,
    "deletable": true,
    "editable": true
   },
   "outputs": [],
   "source": [
    "## fecha o osciloscópio e o gerador de funções\n",
    "scope.close()\n",
    "func_gen.close()"
   ]
  },
  {
   "cell_type": "code",
   "execution_count": null,
   "metadata": {
    "collapsed": true,
    "deletable": true,
    "editable": true
   },
   "outputs": [],
   "source": []
  }
 ],
 "metadata": {
  "anaconda-cloud": {},
  "kernelspec": {
   "display_name": "Python 3",
   "language": "python",
   "name": "python3"
  },
  "language_info": {
   "codemirror_mode": {
    "name": "ipython",
    "version": 3
   },
   "file_extension": ".py",
   "mimetype": "text/x-python",
   "name": "python",
   "nbconvert_exporter": "python",
   "pygments_lexer": "ipython3",
   "version": "3.6.0"
  }
 },
 "nbformat": 4,
 "nbformat_minor": 1
}
